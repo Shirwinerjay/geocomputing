{
 "cells": [
  {
   "cell_type": "markdown",
   "id": "7b465dd0-7f98-4c8f-9bdd-49eb93bbf98c",
   "metadata": {},
   "source": [
    "# Example how to use CSC STAC API, xarray and dask"
   ]
  },
  {
   "cell_type": "markdown",
   "id": "91a83e3c-68b5-45d9-91a3-0c9b3041cc21",
   "metadata": {},
   "source": [
    "This example shows how tu use [STAC](https://stacspec.org/en/about/) (Spatio-Temporal Asset Catalog) API, [xarray](https://docs.xarray.dev/en/stable/) and [Dask](https://www.dask.org/) for processing big raster datasets, also with good support for time series. The main idea is to first define the search and processing as process graph. The downloading and processing is done lazily at the end, so that only needed data (good enough cloud-free image, only needed bands and area) is downloaded. The libraries take care of data download, so you do not need to know about file paths. These tools work best when data is provided as [Cloud-optimized GeoTiffs](https://www.cogeo.org/) (COGs).\n",
    "\n",
    "For trying out this example, it is recommended to start interactive [Jupyter session](https://docs.csc.fi/computing/webinterface/jupyter/) with [Puhti web interface](https://docs.csc.fi/computing/webinterface/), for example with 1 cores and 8 Gb memory.\n",
    "\n",
    "Dask is used for parallization of computing, see [CSC Dask tutorial](https://docs.csc.fi/support/tutorials/dask-python/), inc how to use Dask with Jupyter in\n",
    "Puhti web interface and how to create batch jobs with Dask.\n",
    "\n",
    "We'll search for 12 months of Sentinel-2 data overlapping cetnral Helsinki. Then filter out cloudy scenes, based on their metadata, then create a median composite for each month.\n",
    "\n",
    "The main steps:\n",
    "* Start Dask cluster\n",
    "* Query STAC catalogue to find Sentinel2 L2A images from area and time of interest and small cloud coverage, \n",
    "* Create first datacube, defining required bands and bbx.\n",
    "* Mosaic the images with median value, for each month.\n",
    "* Finally, calculate the result.\n",
    "* Close Dask cluster\n",
    "\n",
    " [CSC STAC catalogue](http://86.50.229.158:8080/geoserver/ogc/stac) is at the moment testing phase, the URL will change. At the moment one collection is available `sentinel2_full_test`, but the plan is to add other collections soon.\n",
    "\n",
    "This example works with [geoconda module](https://docs.csc.fi/apps/geoconda/) in Puhti, the required libraries can be seen from imports.\n",
    "\n",
    "The example is mostly based on [Stackstac documentation](https://stackstac.readthedocs.io/en/latest/basic.html), plotting from https://stacspec.org/en/tutorials/access-sentinel-2-data-aws"
   ]
  },
  {
   "cell_type": "code",
   "execution_count": null,
   "id": "93a78824-61f6-4b90-94a0-8c6de95e245f",
   "metadata": {},
   "outputs": [],
   "source": [
    "import stackstac\n",
    "from dask.distributed import Client\n",
    "import pystac_client\n",
    "import pyproj\n",
    "import pystac_client\n",
    "from pystac import Catalog, Collection\n",
    "import geopandas as gpd\n",
    "import json"
   ]
  },
  {
   "cell_type": "markdown",
   "id": "ec8a34e1-ab37-49db-9b4b-f4b93b1b2ebc",
   "metadata": {},
   "source": [
    "Start Dask cluster. \n",
    "\n",
    "For following how Dask works open [Dask Dashboard or JupyterLab Dask Extension](https://docs.csc.fi/support/tutorials/dask-python/#dask-with-jupyter)."
   ]
  },
  {
   "cell_type": "code",
   "execution_count": null,
   "id": "7a20da08-b857-4091-ab62-c3fdef214ced",
   "metadata": {},
   "outputs": [],
   "source": [
    "# Not starting Dask by default, but it could be started.\n",
    "# Make sure you ahve reserved several cores then.\n",
    "# client = Client()/\n",
    "# client"
   ]
  },
  {
   "cell_type": "markdown",
   "id": "7ec2ac25-3db6-4e19-adc5-ca78bc5cdcdd",
   "metadata": {},
   "source": [
    "Define the center of area of interest, in this case Helsinki."
   ]
  },
  {
   "cell_type": "code",
   "execution_count": null,
   "id": "d5fc5167-c310-4085-87c9-678bd42034c1",
   "metadata": {},
   "outputs": [],
   "source": [
    "lon, lat = 24.945, 60.173, #Helsinki\n",
    "#lon,lat = 25.6, 65.1"
   ]
  },
  {
   "cell_type": "markdown",
   "id": "cbee61fb-b7f6-43d1-a40c-d8f5ce72f8c2",
   "metadata": {},
   "source": [
    "If you want to see pystac_client API calls, set logger to DEBUG. Enable if you want."
   ]
  },
  {
   "cell_type": "code",
   "execution_count": null,
   "id": "0b51fb3a-d9e9-48fb-b626-7e683db4fd29",
   "metadata": {},
   "outputs": [],
   "source": [
    "# import logging\n",
    "# logging.basicConfig()\n",
    "# logger = logging.getLogger('pystac_client')\n",
    "# logger.setLevel(logging.DEBUG)"
   ]
  },
  {
   "cell_type": "markdown",
   "id": "1340f9b1-113b-415e-9704-004ebfeaff08",
   "metadata": {
    "tags": []
   },
   "source": [
    "## Example of working STAC"
   ]
  },
  {
   "cell_type": "markdown",
   "id": "e0d8b9aa-9ce7-4266-ba05-3659bd96ad7a",
   "metadata": {},
   "source": [
    "**ToDo. Look for working FastAPI and GeoServer other services, to have better comparision.**"
   ]
  },
  {
   "cell_type": "markdown",
   "id": "11867447-68f2-481e-8c53-269e86a6e12a",
   "metadata": {},
   "source": [
    "Search from STAC API, using [pystac-client](https://pystac-client.readthedocs.io/). Define the STAC catalog endpoint."
   ]
  },
  {
   "cell_type": "code",
   "execution_count": null,
   "id": "b4ebfbac-3b89-4bfd-b947-016f1af35e41",
   "metadata": {},
   "outputs": [],
   "source": [
    "URL = \"http://86.50.229.158:8080/geoserver/ogc/stac\"\n",
    "catalog = pystac_client.Client.open(URL)\n",
    "catalog"
   ]
  },
  {
   "cell_type": "code",
   "execution_count": null,
   "id": "2d7e20f9-5811-41dc-b062-e3bfb2060f44",
   "metadata": {},
   "outputs": [],
   "source": [
    "print(f\"ID: {catalog.id}\")\n",
    "print(f\"Title: {catalog.title or 'N/A'}\")\n",
    "print(f\"Description: {catalog.description or 'N/A'}\")\n",
    "print(f\"Links: {catalog.links or 'N/A'}\")"
   ]
  },
  {
   "cell_type": "markdown",
   "id": "6b240986-ff10-4ec4-9402-38c287569645",
   "metadata": {},
   "source": [
    "Find out which collections are available."
   ]
  },
  {
   "cell_type": "code",
   "execution_count": null,
   "id": "a3135bc8-3608-4f8e-b93d-5bada6d0f471",
   "metadata": {},
   "outputs": [],
   "source": [
    "for collection in catalog.get_collections():\n",
    "    print(collection.id)"
   ]
  },
  {
   "cell_type": "code",
   "execution_count": null,
   "id": "4d353e33-a813-4a7f-b5cb-165736730e58",
   "metadata": {},
   "outputs": [],
   "source": [
    "collection = catalog.get_collection('sentinel2_full_test')\n",
    "collection"
   ]
  },
  {
   "cell_type": "markdown",
   "id": "efd1d6c9-b597-4696-bebe-d833aab27f79",
   "metadata": {},
   "source": [
    "### Search\n",
    "\n",
    "STAC provides two different search options:\n",
    "\n",
    "* Basic search, avaialble criteria: collection, location and time.\n",
    "* Advanced search with filder, basic search + other attributes provided by STAC. In CSC STAC Sentinel data has information about cloud coverage."
   ]
  },
  {
   "cell_type": "markdown",
   "id": "768fbd33-875b-4ce5-9b80-92211cc6a505",
   "metadata": {},
   "source": [
    "#### Basic search"
   ]
  },
  {
   "cell_type": "markdown",
   "id": "06901ca4-87cf-4d85-8ae7-faaf6d98d2f8",
   "metadata": {},
   "source": [
    "Search with a point as location"
   ]
  },
  {
   "cell_type": "code",
   "execution_count": null,
   "id": "b98d4b7e-4ff9-40a1-ad18-825dc1009565",
   "metadata": {},
   "outputs": [],
   "source": [
    "%%time\n",
    "search = catalog.search(\n",
    "    intersects=dict(type=\"Point\", coordinates=[lon, lat]),\n",
    "    collections=[\"sentinel2_full_test\"],\n",
    "    datetime=\"2021-08-01/2021-09-30\"\n",
    ")\n",
    "print('Found items: ' \"{}\".format(search.matched()))"
   ]
  },
  {
   "cell_type": "markdown",
   "id": "3b89083e-9c0d-412c-8bb1-fe03953a1313",
   "metadata": {},
   "source": [
    "Search with a bbox as location"
   ]
  },
  {
   "cell_type": "code",
   "execution_count": null,
   "id": "517825ab-a421-409a-91a4-071191f51886",
   "metadata": {},
   "outputs": [],
   "source": [
    "\n",
    "%%time\n",
    "search_bbox = catalog.search(\n",
    "    bbox=[23.0,60.5,26.0,64.0],\n",
    "    collections=[\"sentinel2_full_test\"],\n",
    "    datetime=\"2021-08-01/2021-08-15\"\n",
    ")\n",
    "print('Found items: ' \"{}\".format(search_bbox.matched()))"
   ]
  },
  {
   "cell_type": "markdown",
   "id": "6e71fda7-e427-46b5-995a-e6e4e6f6607f",
   "metadata": {},
   "source": [
    "#### Search with filter "
   ]
  },
  {
   "cell_type": "markdown",
   "id": "a27a0f7b-24a0-460d-9a9e-dea2ec6e50a4",
   "metadata": {},
   "source": [
    "Same as above, but added the cloud coverage criteria."
   ]
  },
  {
   "cell_type": "code",
   "execution_count": null,
   "id": "ecbb112f-178d-4d05-acf1-c67817a31f2b",
   "metadata": {},
   "outputs": [],
   "source": [
    "params = {\n",
    "    \"intersects\": {\"type\": \"Point\", \"coordinates\": [lon, lat]},\n",
    "    \"collections\": \"sentinel2_full_test\",\n",
    "    \"datetime\": \"2021-08-01/2021-09-30\",\n",
    "    \"filter\": {\n",
    "        \"op\": \"<\",\n",
    "        \"args\": [{\"property\": \"eo:cloud_cover\"}, 20]\n",
    "    }\n",
    "}\n",
    "\n",
    "search_filter = catalog.search(**params)\n",
    "print('Found items: ' \"{}\".format(search_filter.matched()))"
   ]
  },
  {
   "cell_type": "markdown",
   "id": "13286694-25d4-42c0-b066-71de771f84c7",
   "metadata": {},
   "source": [
    "## ItemCollection"
   ]
  },
  {
   "cell_type": "markdown",
   "id": "cd58ec61-453e-4491-8ec6-804ad30e6bd2",
   "metadata": {},
   "source": [
    "Get ItemCollection of the search results, it includes metadata about the found scenes, and links to their data. No actual data is downloaded yet. See how Jupyter displays the ItemCollection info."
   ]
  },
  {
   "cell_type": "code",
   "execution_count": null,
   "id": "7c74fbc6-ecaf-4417-8b0b-0ada3e66e2c3",
   "metadata": {},
   "outputs": [],
   "source": [
    "item_collection = search_filter.item_collection()\n",
    "item_collection"
   ]
  },
  {
   "cell_type": "code",
   "execution_count": null,
   "id": "a82c788e-d45a-4e1f-ac20-cb951076512c",
   "metadata": {},
   "outputs": [],
   "source": [
    "len(item_collection)"
   ]
  },
  {
   "cell_type": "markdown",
   "id": "50fcde84-7dcf-4c90-8970-d2ad94b72c07",
   "metadata": {},
   "source": [
    "## Plotting search results"
   ]
  },
  {
   "cell_type": "markdown",
   "id": "b3b8a889-d90b-4607-9322-f68dbbf68efa",
   "metadata": {},
   "source": [
    "Searching without location limitation and shorte time, to have scenes from all Finland."
   ]
  },
  {
   "cell_type": "code",
   "execution_count": null,
   "id": "11446b19-1b95-48f0-a5f9-a5a51c2a298d",
   "metadata": {
    "tags": []
   },
   "outputs": [],
   "source": [
    "stac_json = search_bbox.get_all_items_as_dict()"
   ]
  },
  {
   "cell_type": "code",
   "execution_count": null,
   "id": "52d36386-b612-4028-bf56-62169d113084",
   "metadata": {},
   "outputs": [],
   "source": [
    "# Add Item ID to properties to have access to it in GeoPandas\n",
    "for a in stac_json['features']:\n",
    "    a['properties']['title']=a['id']"
   ]
  },
  {
   "cell_type": "code",
   "execution_count": null,
   "id": "7ec2b6ca-f3f5-4ae2-bc9b-d96960334d22",
   "metadata": {},
   "outputs": [],
   "source": [
    "gdf = gpd.GeoDataFrame.from_features(stac_json, \"epsg:4326\")\n",
    "print('Found items: ' \"{}\".format(len(gdf))) "
   ]
  },
  {
   "cell_type": "code",
   "execution_count": null,
   "id": "225c45a4-f9c0-4190-8586-8997a7b9456b",
   "metadata": {},
   "outputs": [],
   "source": [
    "gdf.head()"
   ]
  },
  {
   "cell_type": "code",
   "execution_count": null,
   "id": "a6120747-9ca7-4a2a-b632-4a93eab20d08",
   "metadata": {},
   "outputs": [],
   "source": [
    "fig = gdf.plot(\n",
    "    edgecolor=\"black\",\n",
    "    alpha=0.05,\n",
    ")\n",
    "_ = fig.set_title(\"STAC Query Results\")"
   ]
  },
  {
   "cell_type": "markdown",
   "id": "a5c74b13-bd1a-4c96-98d8-70551b6b32ae",
   "metadata": {},
   "source": [
    "To plot items with a zoomable map see this example: https://stacspec.org/en/tutorials/access-sentinel-2-data-aws#Plot-STAC-Items-on-a-Map"
   ]
  },
  {
   "cell_type": "markdown",
   "id": "3e8d0d8c-316d-4cad-a4aa-8aaacc311b42",
   "metadata": {},
   "source": [
    "## Retrieving data"
   ]
  },
  {
   "cell_type": "markdown",
   "id": "a7a28943-73be-45f8-92d8-372d33eacc4c",
   "metadata": {},
   "source": [
    "Create `xarray` datacube from the items. Using all the defaults, our data will be in its native coordinate reference system, at the finest resolution of all the assets. This will be fast, because the actual data is not fetched yet. How does the datacube look like?"
   ]
  },
  {
   "cell_type": "code",
   "execution_count": null,
   "id": "c892bec2-40c7-42ed-91db-08d5524adff5",
   "metadata": {},
   "outputs": [],
   "source": [
    "# Define smaller bbox\n",
    "# Convert lat-lon point to the data's UTM coordinate reference system, then use that to slice the `x` and `y` dimensions, which are indexed by their UTM coordinates.\n",
    "x_utm, y_utm = pyproj.Proj(\"EPSG:32635\")(lon, lat)\n",
    "buffer = 10000  # meters\n",
    "x_utm-buffer"
   ]
  },
  {
   "cell_type": "code",
   "execution_count": null,
   "id": "742c78e1-945c-4679-924b-25aa78c20af7",
   "metadata": {},
   "outputs": [],
   "source": [
    "%time \n",
    "cube = stackstac.stack(\n",
    "    items=item_collection,\n",
    "    bounds=(x_utm-buffer, y_utm-buffer, x_utm+buffer, y_utm+buffer), \n",
    "    assets=[\"B04_60m\", \"B03_60m\", \"B02_60m\"],\n",
    "    epsg=32635\n",
    ").squeeze() \n",
    "# When item_collection contains multiple epsg's, epsg value needs to be provided\n",
    "cube"
   ]
  },
  {
   "cell_type": "markdown",
   "id": "c3818ef2-c0dd-4bbc-b65f-fe186bde6913",
   "metadata": {},
   "source": [
    "Use xarray's `resample` to create 1-month median composites."
   ]
  },
  {
   "cell_type": "code",
   "execution_count": null,
   "id": "c30ab9c5-3c1c-4f0e-8a6e-285eb0337ad6",
   "metadata": {},
   "outputs": [],
   "source": [
    "monthly = cube.resample(time=\"MS\").median(\"time\", keep_attrs=True)\n",
    "monthly"
   ]
  },
  {
   "cell_type": "markdown",
   "id": "e1078f32-aff9-4d79-b3f9-931b28d3b3aa",
   "metadata": {},
   "source": [
    "So far no data has been downloaded, nor anything computed with actual data. Data size has become 7 Mb, which will actually be downloaded. In this example the final data size is very small, but Dask is good also in handling much bigger amounts of data, also bigger than fits to memory.\n",
    "\n",
    "To start the process use `compute()`. The process can be followed from Dask Dashboard or Dask Lab Extension."
   ]
  },
  {
   "cell_type": "code",
   "execution_count": null,
   "id": "fbdcfbf1-40ec-4c53-b319-09c9bf702417",
   "metadata": {},
   "outputs": [],
   "source": [
    "# %%time\n",
    "# data = monthly.compute()"
   ]
  },
  {
   "cell_type": "markdown",
   "id": "1f986d75-4f9b-4119-b009-d426f95961f8",
   "metadata": {},
   "source": [
    "Show the resulting images."
   ]
  },
  {
   "cell_type": "code",
   "execution_count": null,
   "id": "5a1fa67f-c7d3-4e96-a17b-ec798496b5ec",
   "metadata": {},
   "outputs": [],
   "source": [
    "%%time\n",
    "monthly.plot.imshow(row=\"time\", rgb=\"band\", robust=True, size=10);"
   ]
  },
  {
   "cell_type": "markdown",
   "id": "f31b3401-918e-453f-8ad6-dc1e95e49d9b",
   "metadata": {},
   "source": [
    "### One item info"
   ]
  },
  {
   "cell_type": "code",
   "execution_count": null,
   "id": "fd5a74a4-19a7-421c-ab0b-de532f3795d7",
   "metadata": {},
   "outputs": [],
   "source": [
    "i = 0\n",
    "item = item_collection[i]\n",
    "print(f\"{i}: {item}\")\n",
    "print(f\"{i}: {item.bbox}\")\n",
    "print(f\"{i}: {item.properties}\")\n",
    "print(f\"Available assets: {item.assets.keys()}\")\n",
    "for key in item.assets.keys():\n",
    "        print(f\"{key}: {item.assets[key]}\")"
   ]
  },
  {
   "cell_type": "markdown",
   "id": "cb31e2d0-1743-4d5c-bafb-3b5a35cb5cac",
   "metadata": {},
   "source": [
    "## Working with rasterio or other tools"
   ]
  },
  {
   "cell_type": "markdown",
   "id": "b584beac-560f-480d-9bb6-f197beb457db",
   "metadata": {},
   "source": [
    "It is possible to use the STAC also when working with rasterio or other tools, but then the URLs must be manually retrieved."
   ]
  },
  {
   "cell_type": "code",
   "execution_count": null,
   "id": "5b35928d-bb02-40c4-a324-9fa6fd1a14b4",
   "metadata": {},
   "outputs": [],
   "source": [
    "import rasterio\n",
    "from rasterio.plot import show"
   ]
  },
  {
   "cell_type": "markdown",
   "id": "41ba0092-2598-490a-8503-a0b9a035903c",
   "metadata": {},
   "source": [
    "Select item and asset, retrieve URL."
   ]
  },
  {
   "cell_type": "code",
   "execution_count": null,
   "id": "ab9af279-b1a5-4dc9-a456-8b63d023e5a6",
   "metadata": {},
   "outputs": [],
   "source": [
    "url = item_collection[3].assets['B04_60m'].href\n",
    "url"
   ]
  },
  {
   "cell_type": "code",
   "execution_count": null,
   "id": "384ab18f-3272-429b-9786-0cc0bffb09e0",
   "metadata": {},
   "outputs": [],
   "source": [
    "%time\n",
    "dataset = rasterio.open(url)\n",
    "print(f\"Transform: {dataset.transform}\")\n",
    "print(f\"Transform: {dataset.shape}\")\n",
    "print(f\"Transform: {dataset.crs}\")"
   ]
  },
  {
   "cell_type": "code",
   "execution_count": null,
   "id": "adc4fc73-0194-4b3b-91f7-fcbc10933b8f",
   "metadata": {},
   "outputs": [],
   "source": [
    "%time\n",
    "show(dataset.read(), transform=dataset.transform)"
   ]
  },
  {
   "cell_type": "markdown",
   "id": "1f8c476e-baed-4fac-888f-28046dbf7024",
   "metadata": {},
   "source": [
    "Use GDAL with the URL."
   ]
  },
  {
   "cell_type": "code",
   "execution_count": null,
   "id": "d19ba85b-34f1-4606-8b4e-5fa8fa5dd96b",
   "metadata": {},
   "outputs": [],
   "source": [
    "%time\n",
    "!gdalinfo {url}"
   ]
  },
  {
   "cell_type": "code",
   "execution_count": null,
   "id": "23ff1de7-d7c8-4078-835b-cf5a3ba1f1c0",
   "metadata": {},
   "outputs": [],
   "source": []
  }
 ],
 "metadata": {
  "kernelspec": {
   "display_name": "Python 3 (ipykernel)",
   "language": "python",
   "name": "python3"
  },
  "language_info": {
   "codemirror_mode": {
    "name": "ipython",
    "version": 3
   },
   "file_extension": ".py",
   "mimetype": "text/x-python",
   "name": "python",
   "nbconvert_exporter": "python",
   "pygments_lexer": "ipython3",
   "version": "3.10.6"
  },
  "toc-autonumbering": true,
  "toc-showcode": false,
  "toc-showmarkdowntxt": true
 },
 "nbformat": 4,
 "nbformat_minor": 5
}
