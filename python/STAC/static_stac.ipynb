{
 "cells": [
  {
   "cell_type": "markdown",
   "id": "6a1220ba-3ad5-4f4b-abc7-0e6bad8c5640",
   "metadata": {},
   "source": [
    "# Example how to use static STAC catalgoues with xarray and dask or rasterio"
   ]
  },
  {
   "cell_type": "markdown",
   "id": "35b3b43f-6c58-4c1f-95b9-64e28a927941",
   "metadata": {},
   "source": [
    "This example shows how tu use static [STAC](https://stacspec.org/en/about/) (Spatio-Temporal Asset Catalog) , [xarray](https://docs.xarray.dev/en/stable/) and [Dask](https://www.dask.org/) for processing big raster datasets, also with good support for time series. As extra, it is also shown how to find data URLs from STAC and use them with `Rasterio`. The main idea is to first find the data from STAC catalogue and then define processing as process graph in Dask. The downloading and processing is done lazily at the end, so that only needed data (only needed bands and area) is downloaded. The libraries take care of data download, so you do not need to know about file paths. These tools work best when data is provided as [Cloud-optimized GeoTiffs](https://www.cogeo.org/) (COGs).\n",
    "\n",
    "For trying out this example, it is recommended to start interactive [Jupyter session](https://docs.csc.fi/computing/webinterface/jupyter/) with [Puhti web interface](https://docs.csc.fi/computing/webinterface/), for example with 2 cores and 12 Gb memory.\n",
    "\n",
    "Dask is used for parallization of computing, see [CSC Dask tutorial](https://docs.csc.fi/support/tutorials/dask-python/), inc how to use Dask with Jupyter in\n",
    "Puhti web interface and how to create batch jobs with Dask.\n",
    "\n",
    "We'll search for Sentinel-2 data overlapping cetnral Helsinki. \n",
    "\n",
    "The main steps:\n",
    "* Start Dask cluster\n",
    "* Read STAC catalogue to copy metadata of all Sentinel2 L2A decade mosaic to memory.\n",
    "* Create datacube of images from area of interest and required bands.\n",
    "* Calculate timeseries for a point.\n",
    "* Filter images only from 2020 summer.\n",
    "* Finally, plot the single decade mosaic images.\n",
    "* As extra, it is also shown how to find data URLs from STAC and use them with `Rasterio`.\n",
    "\n",
    "In this example [FMI Tuulituhohaukka STAC catalogue](https://pta.data.lit.fmi.fi/stac/catalog.json) `Sentinel-2_global_mosaic_dekadi\"` collection is used, but there are several [other STAC catalogues available](https://stacspec.org/en/about/datasets/). FMI data is stored in Sodankylä, Finland and is openly available without registration.\n",
    "\n",
    "This example works with [geoconda module](https://docs.csc.fi/apps/geoconda/) in Puhti, the required libraries can be seen from imports.\n",
    "\n",
    "The example is partly based on [Stackstac documentation](https://stackstac.readthedocs.io/en/latest/basic.html) and [Organizing Geospatial data with Spatio Temporal Assets Catalogs — STAC using python](https://towardsdatascience.com/organizing-geospatial-data-with-spatio-temporal-assets-catalogs-stac-using-python-45f1a64ca082)."
   ]
  },
  {
   "cell_type": "code",
   "execution_count": null,
   "id": "f8a6ae19-3722-4e87-934d-85b6c845a6a9",
   "metadata": {},
   "outputs": [],
   "source": [
    "import numpy as np\n",
    "from pystac import Catalog, Collection\n",
    "import pystac_client\n",
    "import stackstac"
   ]
  },
  {
   "cell_type": "markdown",
   "id": "034d10a1-f0ae-422e-866b-4525c969b33b",
   "metadata": {},
   "source": [
    "Start Dask cluster. \n",
    "\n",
    "For following how Dask works open [Dask Dashboard or JupyterLab Dask Extension](https://docs.csc.fi/support/tutorials/dask-python/#dask-with-jupyter)."
   ]
  },
  {
   "cell_type": "code",
   "execution_count": null,
   "id": "80a3cd29-70ac-4899-be17-1cf3944852ed",
   "metadata": {},
   "outputs": [],
   "source": [
    "from dask.distributed import Client\n",
    "\n",
    "client = Client()\n",
    "client"
   ]
  },
  {
   "cell_type": "markdown",
   "id": "7e3541d7-b223-44e6-8d03-66e256fa7e7d",
   "metadata": {},
   "source": [
    "## Read static catalogues with `pystac_client`"
   ]
  },
  {
   "cell_type": "markdown",
   "id": "178119f1-75e8-4eb3-9790-5d04e9ccfe4d",
   "metadata": {},
   "source": [
    "**This currently does not work with FMI STAC catalogue, because of minor problems in the syntax on FMI side. This should work with valid STAC catalogues.** If in hurry, jump to `Read static catalogues with PyStac`."
   ]
  },
  {
   "cell_type": "markdown",
   "id": "1f2d25bf-c0af-4300-9341-fc58b90759f9",
   "metadata": {},
   "source": [
    "Open static catalog and read its general info."
   ]
  },
  {
   "cell_type": "code",
   "execution_count": null,
   "id": "1b04af7d-7e49-4bae-97d0-ee9c7dfb3691",
   "metadata": {},
   "outputs": [],
   "source": [
    "URL = \"https://pta.data.lit.fmi.fi/stac/catalog.json\"\n",
    "catalog = pystac_client.Client.open(URL)\n",
    "print(f\"ID: {catalog.id}\")\n",
    "print(f\"Title: {catalog.title or 'N/A'}\")\n",
    "print(f\"Description: {catalog.description or 'N/A'}\")\n",
    "print(f\"Description: {catalog.links or 'N/A'}\")"
   ]
  },
  {
   "cell_type": "markdown",
   "id": "b201321e-28c4-471a-b948-262b72b8a927",
   "metadata": {},
   "source": [
    "Which collections the catalogue includes? This does not currently work with FMI."
   ]
  },
  {
   "cell_type": "code",
   "execution_count": null,
   "id": "b5567ae4-eee6-4136-98a3-87a53ee3b942",
   "metadata": {},
   "outputs": [],
   "source": [
    "# collections = list(catalog.get_collections())\n",
    "\n",
    "# print(f\"Number of collections: {len(collections)}\")\n",
    "# print(\"Collections IDs:\")\n",
    "# for collection in collections:\n",
    "#     print(f\"- {collection.id}\")"
   ]
  },
  {
   "cell_type": "markdown",
   "id": "578e2209-00a6-492c-a433-787f128bf9e6",
   "metadata": {},
   "source": [
    "Select one collection, from FMI currently only `Tuulituhoriski` collection works."
   ]
  },
  {
   "cell_type": "code",
   "execution_count": null,
   "id": "d75647b8-1a75-4b74-9198-b5de03b1b6f6",
   "metadata": {},
   "outputs": [],
   "source": [
    "collection = catalog.get_collection('Tuulituhoriski')\n",
    "collection"
   ]
  },
  {
   "cell_type": "markdown",
   "id": "f2a64c43-5574-424b-a1c4-74fdd21fe7d7",
   "metadata": {},
   "source": [
    "## Read static catalogues with `PyStac`"
   ]
  },
  {
   "cell_type": "markdown",
   "id": "93647fae-0753-4345-9f29-120101cb60f8",
   "metadata": {},
   "source": [
    "If you already know the link to collection .json page or to avoid FMI problems with collections listing it is possible to open Collection directly with PyStac library. Look for other FMI links here: https://pta.data.lit.fmi.fi/stac/catalog.json"
   ]
  },
  {
   "cell_type": "code",
   "execution_count": null,
   "id": "0a1382fa-dd30-4a21-ad6f-112236dd3ddf",
   "metadata": {},
   "outputs": [],
   "source": [
    "collection = Collection.from_file('https://pta.data.lit.fmi.fi/stac/catalog/Sentinel-2_global_mosaic_dekadi/Sentinel-2_global_mosaic_dekadi.json')\n",
    "# collection = Collection.from_file('https://pta.data.lit.fmi.fi/stac/catalog/Sentinel-1_dekadi_mosaiikki/Sentinel-1_dekadi_mosaiikki.json')\n",
    "# collection = Collection.from_file('https://pta.data.lit.fmi.fi/stac/catalog/Tuulituhoriski/Tuulituhoriski.json')\n",
    "# collection = Collection.from_file('https://pta.data.lit.fmi.fi/stac/catalog/Metsavarateema/Metsavarateema.json')"
   ]
  },
  {
   "cell_type": "markdown",
   "id": "f44ea9d4-8fdd-4133-9d6e-c2a648c344d8",
   "metadata": {},
   "source": [
    "Get a list of all items (images) in the collection.\n",
    "\n",
    "Depending on the collection size this step might take some time (even minutes) and for really big collections this is unfeasible."
   ]
  },
  {
   "cell_type": "code",
   "execution_count": null,
   "id": "b387cc50-daeb-4757-99fb-bc4282442b48",
   "metadata": {},
   "outputs": [],
   "source": [
    "items = list(collection.get_all_items())"
   ]
  },
  {
   "cell_type": "markdown",
   "id": "f480a35b-8360-49ab-948e-fe6e913ed52a",
   "metadata": {},
   "source": [
    "See how many items were found and some basic info about the first item."
   ]
  },
  {
   "cell_type": "code",
   "execution_count": null,
   "id": "c096f81c-e501-49ab-8a91-f5d05811ce3d",
   "metadata": {},
   "outputs": [],
   "source": [
    "print(f\"Number of items: {len(items)}\")\n",
    "\n",
    "for i, item in enumerate(items[:1]):\n",
    "    print(f\"{i}: {item}\", flush=True)\n",
    "    print(f\"{i}: {item.bbox}\", flush=True)\n",
    "    print(f\"{i}: {item.properties}\", flush=True)\n",
    "    print(f\"{i}: {item.assets}\", flush=True)"
   ]
  },
  {
   "cell_type": "markdown",
   "id": "3ee73130-e8b7-46a6-9a31-0468fa9bcb65",
   "metadata": {},
   "source": [
    "From this can be seen that:\n",
    "* This specific collection includes 184 items at the time of writing this guideline, but it is regularly updated, so the number will increase.\n",
    "* Each item has several assets with different Sentinel2 band values, but also different additional values from origional data and mosaicking.\n",
    "\n",
    "To create the `xarray` DataSet we need to provide dataset's coordinate system and pixel size manually, because it is not provided by FMI in understandable way for stackstac.\n",
    "\n",
    "To find out these see `gdalinfo` for one of the bands we will use."
   ]
  },
  {
   "cell_type": "code",
   "execution_count": null,
   "id": "e0846982-5682-41bd-b144-a69d3b61dfa6",
   "metadata": {},
   "outputs": [],
   "source": [
    "!gdalinfo /vsicurl/https://pta.data.lit.fmi.fi/sen2/s2m_b04/s2m_sdr_20170201-20170210_b04_r20m.tif"
   ]
  },
  {
   "cell_type": "markdown",
   "id": "d9cc83b2-eba6-4153-9662-0f5c294e7e29",
   "metadata": {},
   "source": [
    "The `gdalinfo` output shows, that the data is in EPSG:3067 (Finnish TM35FIN) coordinate system and pixel size is 20 meters.\n",
    "\n",
    "Next let's create the Xarray Dataset from all found items, but limiting the area of interest (=central Helsinki) and selecting only bands 2 to 4. The band names can be seen from the Item metadata printout above."
   ]
  },
  {
   "cell_type": "code",
   "execution_count": null,
   "id": "0b4fbfda-8e6d-485f-ba2d-21f7db19fab6",
   "metadata": {},
   "outputs": [],
   "source": [
    "cube = stackstac.stack(\n",
    "    items=[item.to_dict() for item in items],    # it needs the items as dictionaries items[:4]\n",
    "    assets=['b04', 'b03', 'b02'],\n",
    "    epsg=3067,\n",
    "    resolution=20,\n",
    "    bounds=(385480, 6671940, 387480, 6673940)\n",
    ").squeeze()\n",
    "cube"
   ]
  },
  {
   "cell_type": "markdown",
   "id": "b2ccd9e8-c229-4cf6-a901-4887f69170e9",
   "metadata": {},
   "source": [
    "Unfortunatelly also time info is not automatically created correctly, see NaT on the `time` row above.\n",
    "\n",
    "The dates are correctly given under `start_datetime` and `end_datetime`, we will use `start_datetime` below as replacement for `time`. Because `start_datetime` was not read in proper datatime format, we need also convert it from string to `datatime64` type."
   ]
  },
  {
   "cell_type": "code",
   "execution_count": null,
   "id": "121663ee-4a82-4b17-8ea3-1aa1252d092c",
   "metadata": {},
   "outputs": [],
   "source": [
    "cube2 = cube.assign_coords(time=np.array(cube.start_datetime.values,dtype=np.datetime64))\n",
    "cube2"
   ]
  },
  {
   "cell_type": "markdown",
   "id": "fac68d3f-aa87-42ac-b315-f830b81ccfdb",
   "metadata": {},
   "source": [
    "Next well will plot a timeseries for a single pixel for 2017-(2022).\n",
    "But first to avoid problems with a specific broken file, remove mosaic for 2020-01-21-2020-01-31."
   ]
  },
  {
   "cell_type": "code",
   "execution_count": null,
   "id": "856202f2-3e5e-4eca-988a-b930e061c9d9",
   "metadata": {},
   "outputs": [],
   "source": [
    "cube3 = cube2[cube2.id!='Sentinel-2_global_mosaic_dekadi_2020-01-21_2020-01-31']\n",
    "cube3"
   ]
  },
  {
   "cell_type": "markdown",
   "id": "70ba670f-49fb-4e92-b399-4116e47831d0",
   "metadata": {},
   "source": [
    "Select data for one pixel for full timeseries."
   ]
  },
  {
   "cell_type": "code",
   "execution_count": null,
   "id": "70314e0f-3ee0-4cf1-96d6-6004b388cda2",
   "metadata": {},
   "outputs": [],
   "source": [
    "b02_timeserires = cube3.sel(x=386600.0, y=6672680.0, band='b02')\n",
    "b02_timeserires"
   ]
  },
  {
   "cell_type": "markdown",
   "id": "006611be-bef6-4aca-a031-f37424616fc1",
   "metadata": {},
   "source": [
    "So far we have downloaded only metadata for the datacube, for next plot also actual data will be downloaded, but only as much as needed for the plot. It takes a moment to plot, please wait."
   ]
  },
  {
   "cell_type": "code",
   "execution_count": null,
   "id": "7c9723ba-4a2e-428e-8009-134765f7f87c",
   "metadata": {},
   "outputs": [],
   "source": [
    "b02_timeserires.plot()"
   ]
  },
  {
   "cell_type": "markdown",
   "id": "6f27ac13-81f2-4e9c-8409-d710a04eafd5",
   "metadata": {},
   "source": [
    "Finally, to print out some summer images from 2020 select the data for this period from datacube."
   ]
  },
  {
   "cell_type": "code",
   "execution_count": null,
   "id": "abcf0b2e-445a-4aa8-99af-1e76b503257c",
   "metadata": {},
   "outputs": [],
   "source": [
    "cube_2020 = cube3[cube3[\"time\"] > np.datetime64('2020-05-31T00:00:00.000000000')]\n",
    "cube_2020_summer = cube_2020[cube_2020[\"time\"] < np.datetime64('2020-08-31T00:00:00.000000000')]\n",
    "cube_2020_summer"
   ]
  },
  {
   "cell_type": "markdown",
   "id": "0c61b75f-2573-4538-9d81-c345904b2a60",
   "metadata": {},
   "source": [
    "Plot the data for each decade."
   ]
  },
  {
   "cell_type": "code",
   "execution_count": null,
   "id": "655978ee-d208-4c7c-9aaa-71e2a67a69e6",
   "metadata": {},
   "outputs": [],
   "source": [
    "cube_2020_summer.plot.imshow(row=\"time\", rgb=\"band\", robust=True, size=6)"
   ]
  },
  {
   "cell_type": "markdown",
   "id": "77c5cfe4-97a7-487d-b1c0-90bc0555e46a",
   "metadata": {},
   "source": [
    "Some of the images do not look correct, let's check what is wrong."
   ]
  },
  {
   "cell_type": "code",
   "execution_count": null,
   "id": "58f96c69-9f5f-4675-9e75-eb71882025d7",
   "metadata": {},
   "outputs": [],
   "source": [
    "cube_2020_summer[cube_2020_summer[\"time\"]==np.datetime64('2020-08-21T00:00:00.000000000')].values #OK data"
   ]
  },
  {
   "cell_type": "code",
   "execution_count": null,
   "id": "b2519ae5-5aec-4c33-a5eb-83936a73f7d1",
   "metadata": {},
   "outputs": [],
   "source": [
    "cube_2020_summer[cube_2020_summer[\"time\"]==np.datetime64('2020-08-11T00:00:00.000000000')].values #First band all 0, second all nan, third ok."
   ]
  },
  {
   "cell_type": "code",
   "execution_count": null,
   "id": "db8d0e78-23eb-4fe4-9eff-bb505414af50",
   "metadata": {},
   "outputs": [],
   "source": [
    "cube_2020_summer[cube_2020_summer[\"time\"]==np.datetime64('2020-08-01T00:00:00.000000000')].values #Second band all 0."
   ]
  },
  {
   "cell_type": "markdown",
   "id": "7b963b89-3dcc-40bb-93dc-ef217e4e7568",
   "metadata": {},
   "source": [
    "## Using data with Rasterio"
   ]
  },
  {
   "cell_type": "markdown",
   "id": "dcac3b25-af1e-4e16-af28-e353affe39dd",
   "metadata": {},
   "source": [
    "If interested in working with other Python packages than 'xarray' or interested to double-check the data problem, we can find from the items list created in the beginning of this Notebook, which files are related to specific date."
   ]
  },
  {
   "cell_type": "code",
   "execution_count": null,
   "id": "c51c610a-9a57-495c-8cae-b9ca6eb6c580",
   "metadata": {},
   "outputs": [],
   "source": [
    "#Note this search is working with strings, not proper dates.\n",
    "def search_items(items, date):\n",
    "    for item in items:\n",
    "        if item.properties[\"start_datetime\"] == (date):\n",
    "            return item"
   ]
  },
  {
   "cell_type": "code",
   "execution_count": null,
   "id": "adff9825-a3a9-492c-b2c0-972ebf79560f",
   "metadata": {},
   "outputs": [],
   "source": [
    "a = search_items(items, '2020-08-01T00:00:00Z')\n",
    "a.assets"
   ]
  },
  {
   "cell_type": "markdown",
   "id": "34f6b38f-ae9a-4542-940e-bcaf859b5378",
   "metadata": {},
   "source": [
    "Then the files can be checked with `gdalinfo`, compared to command in the beginning, which fetched only saved metadata, the `-stats` flag enables calculating statistics for a file, but also downloads all data to local for a moment. So it takes a moment to finish."
   ]
  },
  {
   "cell_type": "code",
   "execution_count": null,
   "id": "e21fad58-8594-45f4-b85b-9ccf12919f09",
   "metadata": {},
   "outputs": [],
   "source": [
    "b03_path='/vsicurl/'+ a.assets[\"b03\"].href\n",
    "b04_path='/vsicurl/'+ a.assets[\"b04\"].href"
   ]
  },
  {
   "cell_type": "code",
   "execution_count": null,
   "id": "134aca23-be7c-495b-bc11-25ec6f63766c",
   "metadata": {},
   "outputs": [],
   "source": [
    "!gdalinfo {b03_path} -stats"
   ]
  },
  {
   "cell_type": "markdown",
   "id": "e82ccd2e-cdc8-49f8-b6b8-b2b6eb64aeec",
   "metadata": {},
   "source": [
    "The missing data seems to be related to Helsinki area only, because on file level the statistics look ok.\n",
    "\n",
    "To plot the file and histogram in Helsinki area with rasterio."
   ]
  },
  {
   "cell_type": "code",
   "execution_count": null,
   "id": "2c0bfd44-07fb-4110-a505-ccb211b3c2fc",
   "metadata": {},
   "outputs": [],
   "source": [
    "import rasterio\n",
    "import matplotlib.pyplot as plt\n",
    "from rasterio.windows import from_bounds\n",
    "from rasterio.plot import show\n",
    "from rasterio.plot import show_hist"
   ]
  },
  {
   "cell_type": "code",
   "execution_count": null,
   "id": "38645496-2b22-4481-8a1a-2ca411b0c6af",
   "metadata": {},
   "outputs": [],
   "source": [
    "### Create a subplot\n",
    "fig, ax = plt.subplots(ncols=2, nrows=2, figsize=(15, 15))\n",
    "\n",
    "# Add band3 map and histogram, not OK\n",
    "with rasterio.open(b03_path) as src:\n",
    "    rst = src.read(1, window=from_bounds(385480, 6671940, 387480, 6673940, src.transform))\n",
    "    show(rst, ax=ax[0, 0], cmap='viridis', title='b03 map')\n",
    "    show_hist(rst, bins=50, lw=0.0, stacked=False, alpha=0.3, histtype='stepfilled', ax=ax[1, 0], title=\"b03 histogram\")\n",
    "    \n",
    "# Add band4 map and histogram, OK\n",
    "with rasterio.open(b04_path) as src:\n",
    "    rst = src.read(1, window=from_bounds(385480, 6671940, 387480, 6673940, src.transform))\n",
    "    show(rst, ax=ax[0, 1], cmap='viridis', title='b04 map')\n",
    "    show_hist(rst, bins=50, lw=0.0, stacked=False, alpha=0.3, histtype='stepfilled', ax=ax[1, 1], title=\"b04 histogram\")    "
   ]
  }
 ],
 "metadata": {
  "kernelspec": {
   "display_name": "Python 3 (ipykernel)",
   "language": "python",
   "name": "python3"
  },
  "language_info": {
   "codemirror_mode": {
    "name": "ipython",
    "version": 3
   },
   "file_extension": ".py",
   "mimetype": "text/x-python",
   "name": "python",
   "nbconvert_exporter": "python",
   "pygments_lexer": "ipython3",
   "version": "3.10.6"
  }
 },
 "nbformat": 4,
 "nbformat_minor": 5
}
